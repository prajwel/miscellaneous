{
 "cells": [
  {
   "cell_type": "code",
   "execution_count": 1,
   "id": "749a93a7-1c1b-4abd-bde6-4c3110c0a657",
   "metadata": {},
   "outputs": [],
   "source": [
    "import numpy as np\n",
    "import astropy.units as u\n",
    "\n",
    "\n",
    "from scipy.optimize import least_squares\n",
    "from astropy.io import fits\n",
    "from astropy.coordinates import SkyCoord  \n",
    "from astropy.wcs.utils import fit_wcs_from_points, celestial_frame_to_wcs"
   ]
  },
  {
   "cell_type": "code",
   "execution_count": 2,
   "id": "9237f6be-971c-49ce-b6d7-616e8bf071fe",
   "metadata": {},
   "outputs": [],
   "source": [
    "def _linear_wcs_fit(params, lon, lat, x, y, w_obj):\n",
    "    \"\"\"\n",
    "    Objective function for fitting linear terms.\n",
    "\n",
    "    Parameters\n",
    "    ----------\n",
    "    params : array\n",
    "        6 element array. First 4 elements are PC matrix, last 2 are CRPIX.\n",
    "    lon, lat: array\n",
    "        Sky coordinates.\n",
    "    x, y: array\n",
    "        Pixel coordinates\n",
    "    w_obj: `~astropy.wcs.WCS`\n",
    "        WCS object\n",
    "    \"\"\"\n",
    "    pc = params[0:4]\n",
    "    crpix = params[4:6]\n",
    "\n",
    "    w_obj.wcs.pc = ((pc[0], pc[1]), (pc[2], pc[3]))\n",
    "    w_obj.wcs.crpix = crpix\n",
    "    lon2, lat2 = w_obj.wcs_pix2world(x, y, 0)\n",
    "\n",
    "    lat_resids = lat - lat2\n",
    "    lon_resids = lon - lon2\n",
    "    # In case the longitude has wrapped around\n",
    "    lon_resids = np.mod(lon_resids - 180.0, 360.0) - 180.0\n",
    "\n",
    "    resids = np.concatenate((lon_resids * np.cos(np.radians(lat)), lat_resids))\n",
    "\n",
    "    return resids\n",
    "\n",
    "def mod_fit_wcs_from_points(\n",
    "    xy, world_coords, proj_point=\"center\", projection=\"TAN\", plate_scales = (1, 1), crpix = (2400, 2400)):\n",
    "\n",
    "    xp, yp = xy\n",
    "    try:\n",
    "        lon, lat = world_coords.data.lon.deg, world_coords.data.lat.deg\n",
    "    except AttributeError:\n",
    "        unit_sph = world_coords.unit_spherical\n",
    "        lon, lat = unit_sph.lon.deg, unit_sph.lat.deg\n",
    "\n",
    "    # verify input\n",
    "    if (type(proj_point) != type(world_coords)) and (proj_point != \"center\"):\n",
    "        raise ValueError(\n",
    "            \"proj_point must be set to 'center', or an\"\n",
    "            \"`~astropy.coordinates.SkyCoord` object with \"\n",
    "            \"a pair of points.\"\n",
    "        )\n",
    "\n",
    "    use_center_as_proj_point = str(proj_point) == \"center\"\n",
    "\n",
    "    if not use_center_as_proj_point:\n",
    "        assert proj_point.size == 1\n",
    "\n",
    "    wcs = celestial_frame_to_wcs(frame=world_coords.frame, projection=projection)\n",
    "    wcs.wcs.cdelt = plate_scales            \n",
    "    \n",
    "    # Change PC to CD, since cdelt will be set to 1\n",
    "    if wcs.wcs.has_cd():\n",
    "        wcs.wcs.pc = wcs.wcs.cd\n",
    "        wcs.wcs.__delattr__(\"cd\")\n",
    "\n",
    "    # compute bounding box for sources in image coordinates:\n",
    "    xpmin, xpmax, ypmin, ypmax = xp.min(), xp.max(), yp.min(), yp.max()\n",
    "\n",
    "    # set pixel_shape to span of input points\n",
    "    wcs.pixel_shape = (\n",
    "        1 if xpmax <= 0.0 else int(np.ceil(xpmax)),\n",
    "        1 if ypmax <= 0.0 else int(np.ceil(ypmax)),\n",
    "    )\n",
    "\n",
    "    # determine CRVAL from input\n",
    "    close = lambda l, p: p[np.argmin(np.abs(l))]\n",
    "    if use_center_as_proj_point:  # use center of input points\n",
    "        sc1 = SkyCoord(lon.min() * u.deg, lat.max() * u.deg)\n",
    "        sc2 = SkyCoord(lon.max() * u.deg, lat.min() * u.deg)\n",
    "        pa = sc1.position_angle(sc2)\n",
    "        sep = sc1.separation(sc2)\n",
    "        midpoint_sc = sc1.directional_offset_by(pa, sep / 2)\n",
    "        wcs.wcs.crval = (midpoint_sc.data.lon.deg, midpoint_sc.data.lat.deg)\n",
    "        wcs.wcs.crpix = ((xpmax + xpmin) / 2.0, (ypmax + ypmin) / 2.0)\n",
    "    else:  # convert units, initial guess for crpix\n",
    "        proj_point.transform_to(world_coords)\n",
    "        wcs.wcs.crval = (proj_point.data.lon.deg, proj_point.data.lat.deg)\n",
    "        wcs.wcs.crpix = (\n",
    "            close(lon - wcs.wcs.crval[0], xp + 1),\n",
    "            close(lon - wcs.wcs.crval[1], yp + 1),\n",
    "        )\n",
    "\n",
    "    # fit linear terms, assign to wcs\n",
    "    # use (1, 0, 0, 1) as initial guess, in case input wcs was passed in\n",
    "    # and cd terms are way off.\n",
    "    # Use bounds to require that the fit center pixel is on the input image\n",
    "    if xpmin == xpmax:\n",
    "        xpmin, xpmax = xpmin - 0.5, xpmax + 0.5\n",
    "    if ypmin == ypmax:\n",
    "        ypmin, ypmax = ypmin - 0.5, ypmax + 0.5\n",
    "\n",
    "    p0 = np.concatenate([wcs.wcs.pc.flatten(), wcs.wcs.crpix.flatten()])\n",
    "    fit = least_squares(\n",
    "        _linear_wcs_fit,\n",
    "        p0,\n",
    "        args=(lon, lat, xp, yp, wcs),\n",
    "        bounds=[\n",
    "            [-np.inf, -np.inf, -np.inf, -np.inf, xpmin + 1, ypmin + 1],\n",
    "            [np.inf, np.inf, np.inf, np.inf, xpmax + 1, ypmax + 1],\n",
    "        ],\n",
    "    )\n",
    "    wcs.wcs.crpix = np.array(fit.x[4:6])\n",
    "    wcs.wcs.pc = np.array(fit.x[0:4].reshape((2, 2)))\n",
    "\n",
    "    # crvals = wcs.wcs_pix2world(crpix[0], crpix[1], 1)\n",
    "    # crvals = tuple([float(crval) for crval in crvals])\n",
    "    # wcs.wcs.crpix = crpix\n",
    "    # wcs.wcs.crval = crvals\n",
    "    \n",
    "    return wcs"
   ]
  },
  {
   "cell_type": "code",
   "execution_count": 3,
   "id": "85d49f9e-89f6-4dfc-b71b-97dbac161981",
   "metadata": {},
   "outputs": [],
   "source": [
    "hdu = fits.open('combined_FUV_PC00F2_CPS_coo.dat.corr')\n",
    "\n",
    "field_x = hdu[1].data['field_x']\n",
    "field_y = hdu[1].data['field_y']\n",
    "index_ra = hdu[1].data['index_ra']\n",
    "index_dec = hdu[1].data['index_dec']\n",
    "skycoo = SkyCoord(index_ra, index_dec, unit = 'deg')"
   ]
  },
  {
   "cell_type": "code",
   "execution_count": 4,
   "id": "a077966e-515b-4079-a4d6-e11a21c46ef3",
   "metadata": {},
   "outputs": [
    {
     "name": "stdout",
     "output_type": "stream",
     "text": [
      "WCS Keywords\n",
      "\n",
      "Number of WCS axes: 2\n",
      "CTYPE : 'RA---TAN'  'DEC--TAN'  \n",
      "CRVAL : 17.37802453439897  -71.30617922027807  \n",
      "CRPIX : 2314.364788026458  2327.2190940376995  \n",
      "CD1_1 CD1_2  : 0.00011222117817702223  -2.8550310859426504e-05  \n",
      "CD2_1 CD2_2  : 2.8570533913341137e-05  0.00011220567069389997  \n",
      "NAXIS : 4158  4143\n"
     ]
    }
   ],
   "source": [
    "default_wcs = fit_wcs_from_points((field_x, field_y), skycoo)\n",
    "print(default_wcs)"
   ]
  },
  {
   "cell_type": "code",
   "execution_count": 5,
   "id": "de6c3b45-5bf8-4999-8bd0-50db532b9494",
   "metadata": {},
   "outputs": [
    {
     "name": "stdout",
     "output_type": "stream",
     "text": [
      "WCS Keywords\n",
      "\n",
      "Number of WCS axes: 2\n",
      "CTYPE : 'RA---TAN'  'DEC--TAN'  \n",
      "CRVAL : 17.37802453439897  -71.30617922027807  \n",
      "CRPIX : 2314.3647876048844  2327.219092787287  \n",
      "PC1_1 PC1_2  : 0.9691168859463998  -0.24655407177549007  \n",
      "PC2_1 PC2_2  : 0.24674145874149725  0.9690330281286604  \n",
      "CDELT : 0.00011579736111111111  0.00011579137888888888  \n",
      "NAXIS : 4158  4143\n"
     ]
    }
   ],
   "source": [
    "plate_scales = (0.4168705 / 3600, 0.416848964 / 3600)\n",
    "test_wcs = mod_fit_wcs_from_points((field_x, field_y), skycoo, plate_scales = plate_scales)\n",
    "print(test_wcs)"
   ]
  },
  {
   "cell_type": "code",
   "execution_count": 6,
   "id": "6145ad78-fc54-45a4-a5bb-a9a97c709658",
   "metadata": {},
   "outputs": [
    {
     "name": "stdout",
     "output_type": "stream",
     "text": [
      "[array(17.03299742), array(-71.49219869)]\n",
      "[array(17.03299742), array(-71.49219869)]\n",
      "[array(17.03275768), array(-71.49215262)]\n"
     ]
    }
   ],
   "source": [
    "mod_wcs = test_wcs.deepcopy()\n",
    "crvals = mod_wcs.wcs_pix2world(2400, 2400, 1)\n",
    "crvals = tuple([float(crval) for crval in crvals])\n",
    "\n",
    "mod_wcs.wcs.crpix = (2400, 2400)\n",
    "mod_wcs.wcs.crval = crvals\n",
    "\n",
    "print(default_wcs.wcs_pix2world(1000, 1000, 0 ))\n",
    "print(test_wcs.wcs_pix2world(1000, 1000, 0 ))\n",
    "print(mod_wcs.wcs_pix2world(1000, 1000, 0 ))"
   ]
  }
 ],
 "metadata": {
  "kernelspec": {
   "display_name": "Python 3 (ipykernel)",
   "language": "python",
   "name": "python3"
  },
  "language_info": {
   "codemirror_mode": {
    "name": "ipython",
    "version": 3
   },
   "file_extension": ".py",
   "mimetype": "text/x-python",
   "name": "python",
   "nbconvert_exporter": "python",
   "pygments_lexer": "ipython3",
   "version": "3.9.17"
  }
 },
 "nbformat": 4,
 "nbformat_minor": 5
}
