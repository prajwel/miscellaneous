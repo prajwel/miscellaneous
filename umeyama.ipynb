{
 "cells": [
  {
   "cell_type": "code",
   "execution_count": 1,
   "id": "5a8e2f83-fb2f-41bd-95f3-5ca6bcec6a03",
   "metadata": {
    "tags": []
   },
   "outputs": [],
   "source": [
    "import numpy as np"
   ]
  },
  {
   "cell_type": "code",
   "execution_count": 2,
   "id": "15ed6469-8558-4d42-ac95-d0625a3545c2",
   "metadata": {
    "tags": []
   },
   "outputs": [],
   "source": [
    "# from https://zpl.fi/aligning-point-patterns-with-kabsch-umeyama-algorithm/\n",
    "def kabsch_umeyama(src, dst):\n",
    "    assert dst.shape == src.shape\n",
    "    n, m = dst.shape\n",
    "\n",
    "    dst_mean = np.mean(dst, axis=0)\n",
    "    src_mean = np.mean(src, axis=0)\n",
    "    VarA = np.mean(np.linalg.norm(dst - dst_mean, axis=1) ** 2)\n",
    "\n",
    "    H = ((dst - dst_mean).T @ (src - src_mean)) / n\n",
    "    U, D, VT = np.linalg.svd(H)\n",
    "    d = np.sign(np.linalg.det(U) * np.linalg.det(VT))\n",
    "    S = np.diag([1] * (m - 1) + [d])\n",
    "\n",
    "    R = U @ S @ VT\n",
    "    c = VarA / np.trace(np.diag(D) @ S)\n",
    "    t = dst_mean - c * R @ src_mean\n",
    "\n",
    "    T = np.eye(m + 1, dtype=np.float64)\n",
    "    T[:m, :m] = c * R\n",
    "    T[:m, m] = t\n",
    "    return T"
   ]
  },
  {
   "cell_type": "code",
   "execution_count": 3,
   "id": "02b63008-d44b-4036-bc93-5c5b48c874d3",
   "metadata": {
    "tags": []
   },
   "outputs": [],
   "source": [
    "# From https://github.com/scikit-image/scikit-image/blob/54c2148455d8b30463724706e6a5fe09b4f52172/skimage/transform/_geometric.py#L91\n",
    "def _umeyama(src, dst, estimate_scale):\n",
    "    \"\"\"Estimate N-D similarity transformation with or without scaling.\n",
    "    Parameters\n",
    "    ----------\n",
    "    src : (M, N) array_like\n",
    "        Source coordinates.\n",
    "    dst : (M, N) array_like\n",
    "        Destination coordinates.\n",
    "    estimate_scale : bool\n",
    "        Whether to estimate scaling factor.\n",
    "    Returns\n",
    "    -------\n",
    "    T : (N + 1, N + 1)\n",
    "        The homogeneous similarity transformation matrix. The matrix contains\n",
    "        NaN values only if the problem is not well-conditioned.\n",
    "    References\n",
    "    ----------\n",
    "    .. [1] \"Least-squares estimation of transformation parameters between two\n",
    "            point patterns\", Shinji Umeyama, PAMI 1991, :DOI:`10.1109/34.88573`\n",
    "    \"\"\"\n",
    "    src = np.asarray(src)\n",
    "    dst = np.asarray(dst)\n",
    "\n",
    "    num = src.shape[0]\n",
    "    dim = src.shape[1]\n",
    "\n",
    "    # Compute mean of src and dst.\n",
    "    src_mean = src.mean(axis=0)\n",
    "    dst_mean = dst.mean(axis=0)\n",
    "\n",
    "    # Subtract mean from src and dst.\n",
    "    src_demean = src - src_mean\n",
    "    dst_demean = dst - dst_mean\n",
    "\n",
    "    # Eq. (38).\n",
    "    A = dst_demean.T @ src_demean / num\n",
    "\n",
    "    # Eq. (39).\n",
    "    d = np.ones((dim,), dtype=np.float64)\n",
    "    if np.linalg.det(A) < 0:\n",
    "        d[dim - 1] = -1\n",
    "\n",
    "    T = np.eye(dim + 1, dtype=np.float64)\n",
    "\n",
    "    U, S, V = np.linalg.svd(A)\n",
    "\n",
    "    # Eq. (40) and (43).\n",
    "    rank = np.linalg.matrix_rank(A)\n",
    "    if rank == 0:\n",
    "        return np.nan * T\n",
    "    elif rank == dim - 1:\n",
    "        if np.linalg.det(U) * np.linalg.det(V) > 0:\n",
    "            T[:dim, :dim] = U @ V\n",
    "        else:\n",
    "            s = d[dim - 1]\n",
    "            d[dim - 1] = -1\n",
    "            T[:dim, :dim] = U @ np.diag(d) @ V\n",
    "            d[dim - 1] = s\n",
    "    else:\n",
    "        T[:dim, :dim] = U @ np.diag(d) @ V\n",
    "\n",
    "    if estimate_scale:\n",
    "        # Eq. (41) and (42).\n",
    "        scale = 1.0 / src_demean.var(axis=0).sum() * (S @ d)\n",
    "    else:\n",
    "        scale = 1.0\n",
    "\n",
    "    T[:dim, dim] = dst_mean - scale * (T[:dim, :dim] @ src_mean.T)\n",
    "    T[:dim, :dim] *= scale\n",
    "\n",
    "    return T"
   ]
  },
  {
   "cell_type": "code",
   "execution_count": 4,
   "id": "18c32eb7-cf45-4f80-b87b-05c521a5db59",
   "metadata": {
    "tags": []
   },
   "outputs": [],
   "source": [
    "A = np.array([[ 23, 178],\n",
    "              [ 66, 173],\n",
    "              [ 88, 187],\n",
    "              [119, 202],\n",
    "              [122, 229],\n",
    "              [170, 232],\n",
    "              [179, 199]])\n",
    "B = np.array([[232, 38],\n",
    "              [208, 32],\n",
    "              [181, 31],\n",
    "              [155, 45],\n",
    "              [142, 33],\n",
    "              [121, 59],\n",
    "              [139, 69]])"
   ]
  },
  {
   "cell_type": "code",
   "execution_count": 5,
   "id": "fdff99b3-c8e0-4353-ab07-66394765029f",
   "metadata": {
    "tags": []
   },
   "outputs": [],
   "source": [
    "T1 = _umeyama(A, B, True) \n",
    "T2 = kabsch_umeyama(A, B) "
   ]
  },
  {
   "cell_type": "code",
   "execution_count": 6,
   "id": "dc0d7551-c990-4b0c-85a3-c0f1817dacd5",
   "metadata": {
    "tags": []
   },
   "outputs": [
    {
     "data": {
      "text/plain": [
       "(array([[ -0.55439848,  -0.40088362, 309.2086726 ],\n",
       "        [  0.40088362,  -0.55439848, 110.81144783],\n",
       "        [  0.        ,   0.        ,   1.        ]]),\n",
       " array([[ -0.60130945,  -0.43480478, 321.13300577],\n",
       "        [  0.43480478,  -0.60130945, 116.47685146],\n",
       "        [  0.        ,   0.        ,   1.        ]]))"
      ]
     },
     "execution_count": 6,
     "metadata": {},
     "output_type": "execute_result"
    }
   ],
   "source": [
    "T1, T2"
   ]
  },
  {
   "cell_type": "code",
   "execution_count": 7,
   "id": "c8846e12-6609-445d-972a-c89a03fbfd10",
   "metadata": {
    "tags": []
   },
   "outputs": [],
   "source": [
    "def apply_T(T, data):\n",
    "    x = (T[0, 0] * data[:, 0]) + (T[0, 1] * data[:, 1]) + T[0, 2]\n",
    "    y = (T[1, 1] * data[:, 1]) + (T[1, 0] * data[:, 0]) + T[1, 2]\n",
    "    return np.array([x, y]).T "
   ]
  },
  {
   "cell_type": "code",
   "execution_count": 8,
   "id": "8d302512-2002-464e-95bc-52f0e7fd3a10",
   "metadata": {
    "tags": []
   },
   "outputs": [
    {
     "data": {
      "text/plain": [
       "array([[ -6.89977746, -16.65115853],\n",
       "       [ -4.73449404,   9.35882969],\n",
       "       [  4.45636863,  11.41669067],\n",
       "       [  7.25676136,   1.52810577],\n",
       "       [  7.76970808,  -0.23800236],\n",
       "       [  0.9559301 ,  -8.65878387],\n",
       "       [ -8.80449666,   3.24431863]])"
      ]
     },
     "execution_count": 8,
     "metadata": {},
     "output_type": "execute_result"
    }
   ],
   "source": [
    "apply_T(T1, A) - B"
   ]
  },
  {
   "cell_type": "code",
   "execution_count": 9,
   "id": "7ebac24f-ae58-4ff2-a51b-f4a3e9d2901a",
   "metadata": {
    "tags": []
   },
   "outputs": [
    {
     "data": {
      "text/plain": [
       "array([[ -2.09236259, -18.55572034],\n",
       "       [ -1.77464495,   9.14743249],\n",
       "       [  5.90928025,  11.2948054 ],\n",
       "       [  6.74661564,   1.7541119 ],\n",
       "       [  6.2029582 ,  -1.17682886],\n",
       "       [ -2.96430965,  -8.11012771],\n",
       "       [-12.0275369 ,   5.64632711]])"
      ]
     },
     "execution_count": 9,
     "metadata": {},
     "output_type": "execute_result"
    }
   ],
   "source": [
    "apply_T(T2, A) - B"
   ]
  },
  {
   "cell_type": "code",
   "execution_count": null,
   "id": "4c611a12-7780-46ec-90cf-2a048bcf166f",
   "metadata": {},
   "outputs": [],
   "source": []
  }
 ],
 "metadata": {
  "kernelspec": {
   "display_name": "Python 3 (ipykernel)",
   "language": "python",
   "name": "python3"
  },
  "language_info": {
   "codemirror_mode": {
    "name": "ipython",
    "version": 3
   },
   "file_extension": ".py",
   "mimetype": "text/x-python",
   "name": "python",
   "nbconvert_exporter": "python",
   "pygments_lexer": "ipython3",
   "version": "3.9.16"
  }
 },
 "nbformat": 4,
 "nbformat_minor": 5
}
